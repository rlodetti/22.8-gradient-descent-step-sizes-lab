{
 "cells": [
  {
   "cell_type": "markdown",
   "metadata": {},
   "source": [
    "# Gradient Descent: Step Sizes - Lab\n",
    "\n",
    "## Introduction\n",
    "\n",
    "In this lab, you'll practice applying gradient descent.  As you know, gradient descent begins with an initial regression line and moves to a \"best fit\" regression line by changing values of $m$ and $b$ and evaluating the RSS.  So far, we have illustrated this technique by changing the values of $m$ and evaluating the RSS.  In this lab, you will work through applying this technique by changing the value of $b$ instead.  Let's get started.\n",
    "\n",
    "## Objectives\n",
    "\n",
    "You will be able to:\n",
    "\n",
    "- Use gradient descent to find the optimal parameters for a linear regression model\n",
    "- Describe how to use an RSS curve to find the optimal parameters for a linear regression model"
   ]
  },
  {
   "cell_type": "code",
   "execution_count": 1,
   "metadata": {
    "ExecuteTime": {
     "end_time": "2023-07-13T20:08:31.645930Z",
     "start_time": "2023-07-13T20:08:29.606170Z"
    }
   },
   "outputs": [],
   "source": [
    "import sys\n",
    "import numpy as np\n",
    "np.set_printoptions(formatter={'float_kind':'{:f}'.format})\n",
    "import matplotlib.pyplot as plt"
   ]
  },
  {
   "cell_type": "markdown",
   "metadata": {},
   "source": [
    "## Setting up Our Initial Regression Line\n",
    "\n",
    "Once again, we'll take a look at revenues (our data example), which looks like this:"
   ]
  },
  {
   "cell_type": "code",
   "execution_count": 2,
   "metadata": {
    "ExecuteTime": {
     "end_time": "2023-07-13T20:08:41.465651Z",
     "start_time": "2023-07-13T20:08:41.198895Z"
    }
   },
   "outputs": [
    {
     "data": {
      "image/png": "[encoded data removed]",
      "text/plain": [
       "<Figure size 432x288 with 1 Axes>"
      ]
     },
     "metadata": {
      "needs_background": "light"
     },
     "output_type": "display_data"
    }
   ],
   "source": [
    "np.random.seed(225)\n",
    "\n",
    "x = np.random.rand(30, 1).reshape(30)\n",
    "y_randterm = np.random.normal(0,3,30)\n",
    "y = 3 + 50*x + y_randterm\n",
    "\n",
    "fig, ax = plt.subplots()\n",
    "ax.scatter(x, y, marker=\".\", c=\"b\")\n",
    "ax.set_xlabel(\"x\", fontsize=14)\n",
    "ax.set_ylabel(\"y\", fontsize=14)\n",
    "fig.suptitle(\"Revenues\");"
   ]
  },
  {
   "cell_type": "markdown",
   "metadata": {},
   "source": [
    "We can start with some values for an initial not-so-accurate regression line, $y = 43x + 12$."
   ]
  },
  {
   "cell_type": "code",
   "execution_count": 3,
   "metadata": {
    "ExecuteTime": {
     "end_time": "2023-07-13T20:10:23.084085Z",
     "start_time": "2023-07-13T20:10:23.080329Z"
    }
   },
   "outputs": [],
   "source": [
    "def regression_formula(x):\n",
    "    return 43*x + 12"
   ]
  },
  {
   "cell_type": "markdown",
   "metadata": {},
   "source": [
    "We plot this line with the same data below:"
   ]
  },
  {
   "cell_type": "code",
   "execution_count": 4,
   "metadata": {
    "ExecuteTime": {
     "end_time": "2023-07-13T20:10:25.994396Z",
     "start_time": "2023-07-13T20:10:25.569432Z"
    }
   },
   "outputs": [
    {
     "data": {
      "image/png": "[encoded data removed]",
      "text/plain": [
       "<Figure size 432x288 with 1 Axes>"
      ]
     },
     "metadata": {
      "needs_background": "light"
     },
     "output_type": "display_data"
    }
   ],
   "source": [
    "fig, ax = plt.subplots()\n",
    "ax.scatter(x, y, marker=\".\", c=\"b\")\n",
    "ax.plot(x, regression_formula(x), color=\"orange\", label=r'$y = 43x + 12$')\n",
    "ax.set_xlabel(\"x\", fontsize=14)\n",
    "ax.set_ylabel(\"y\", fontsize=14)\n",
    "fig.suptitle(\"Revenues\", fontsize=16)\n",
    "ax.legend();"
   ]
  },
  {
   "cell_type": "markdown",
   "metadata": {},
   "source": [
    "As you can see, this line is near the data, but not quite right. Let's evaluate that more formally using RSS."
   ]
  },
  {
   "cell_type": "code",
   "execution_count": 5,
   "metadata": {
    "ExecuteTime": {
     "end_time": "2023-07-13T20:10:36.722683Z",
     "start_time": "2023-07-13T20:10:36.717877Z"
    }
   },
   "outputs": [],
   "source": [
    "def errors(x_values, y_values, m, b):\n",
    "    y_line = (b + m*x_values)\n",
    "    return (y_values - y_line)\n",
    "\n",
    "def squared_errors(x_values, y_values, m, b):\n",
    "    return errors(x_values, y_values, m, b)**2\n",
    "\n",
    "def residual_sum_squares(x_values, y_values, m, b):\n",
    "    return sum(squared_errors(x_values, y_values, m, b))"
   ]
  },
  {
   "cell_type": "markdown",
   "metadata": {},
   "source": [
    "Now using the `residual_sum_squares`, function, we calculate the RSS to measure the accuracy of the regression line to our data.  Let's take another look at that function:"
   ]
  },
  {
   "cell_type": "code",
   "execution_count": 6,
   "metadata": {
    "ExecuteTime": {
     "end_time": "2023-07-13T20:10:50.157219Z",
     "start_time": "2023-07-13T20:10:50.149284Z"
    }
   },
   "outputs": [
    {
     "data": {
      "text/plain": [
       "1117.8454014417434"
      ]
     },
     "execution_count": 6,
     "metadata": {},
     "output_type": "execute_result"
    }
   ],
   "source": [
    "residual_sum_squares(x, y , 43, 12)"
   ]
  },
  {
   "cell_type": "markdown",
   "metadata": {},
   "source": [
    "So, for a $b$ of 12, we are getting an RSS of 1117.8. Let's see if we can do better than that!"
   ]
  },
  {
   "cell_type": "markdown",
   "metadata": {},
   "source": [
    "### Building a cost curve\n",
    "\n",
    "Now let's use the `residual_sum_squares` function to build a cost curve.  Keeping the $m$ value fixed at $43$, write a function called `rss_values`.  \n",
    "* `rss_values` passes our dataset with the `x_values` and `y_values` arguments.  \n",
    "* It also takes a list of values of $b$, and an initial $m$ value as arguments.  \n",
    "* It outputs a NumPy array with a first column of `b_values` and second column of `rss_values`. For example, this input:\n",
    "  ```python\n",
    "  rss_values(x, y, 43, [1, 2, 3])\n",
    "  ```\n",
    "  Should produce this output:\n",
    "  ```python\n",
    "  array([[1.000000, 1368.212664],\n",
    "       [2.000000, 1045.452004],\n",
    "       [3.000000, 782.691343]])\n",
    "  ```\n",
    "  Where 1, 2, and 3 are the b values an 1368.2, 1045.5 and 782.7 are the associated RSS values.\n",
    "  \n",
    "*Hint:* Check out `np.zeros` ([documentation here](https://numpy.org/doc/stable/reference/generated/numpy.zeros.html))."
   ]
  },
  {
   "cell_type": "code",
   "execution_count": 9,
   "metadata": {
    "ExecuteTime": {
     "end_time": "2023-07-13T20:16:38.588459Z",
     "start_time": "2023-07-13T20:16:38.582937Z"
    }
   },
   "outputs": [],
   "source": [
    "# Replace None with appropriate code\n",
    "def rss_values(x_values, y_values, m, b_values):\n",
    "    # Make a NumPy array to contain the data\n",
    "    array = np.zeros((len(b_values),2))\n",
    "    \n",
    "    # Loop over all of the values in b_values\n",
    "    for idx, b_val in enumerate(b_values):\n",
    "        # Add the current b value and associated RSS to the\n",
    "        # NumPy array\n",
    "        RSS = residual_sum_squares(x_values, y_values , m, b_val)\n",
    "        array[idx] = [b_val,RSS]\n",
    "        \n",
    "    # Return the NumPy array\n",
    "    return array"
   ]
  },
  {
   "cell_type": "code",
   "execution_count": 10,
   "metadata": {
    "ExecuteTime": {
     "end_time": "2023-07-13T20:16:40.001119Z",
     "start_time": "2023-07-13T20:16:39.994341Z"
    }
   },
   "outputs": [
    {
     "data": {
      "text/plain": [
       "array([[1.000000, 1368.212664],\n",
       "       [2.000000, 1045.452004],\n",
       "       [3.000000, 782.691343]])"
      ]
     },
     "execution_count": 10,
     "metadata": {},
     "output_type": "execute_result"
    }
   ],
   "source": [
    "# Run this cell without changes\n",
    "example_rss = rss_values(x, y, 43, [1,2,3])\n",
    "\n",
    "# Should return a NumPy array\n",
    "assert type(example_rss) == np.ndarray\n",
    "\n",
    "# Specifically a 2D array\n",
    "assert example_rss.ndim == 2\n",
    "\n",
    "# The shape should match the number of b values passed in\n",
    "assert example_rss.shape == (3, 2)\n",
    "\n",
    "example_rss"
   ]
  },
  {
   "cell_type": "markdown",
   "metadata": {},
   "source": [
    "Now let's make more of an attempt to find the actual best b value for our `x` and `y` data.\n",
    "\n",
    "Make an array `b_val` that contains values between 0 and 14 with steps of 0.5.\n",
    "\n",
    "*Hint:* Check out `np.arange` ([documentation here](https://numpy.org/doc/stable/reference/generated/numpy.arange.html))"
   ]
  },
  {
   "cell_type": "code",
   "execution_count": 11,
   "metadata": {
    "ExecuteTime": {
     "end_time": "2023-07-13T20:17:13.806839Z",
     "start_time": "2023-07-13T20:17:13.800384Z"
    }
   },
   "outputs": [
    {
     "data": {
      "text/plain": [
       "array([0.000000, 0.500000, 1.000000, 1.500000, 2.000000, 2.500000,\n",
       "       3.000000, 3.500000, 4.000000, 4.500000, 5.000000, 5.500000,\n",
       "       6.000000, 6.500000, 7.000000, 7.500000, 8.000000, 8.500000,\n",
       "       9.000000, 9.500000, 10.000000, 10.500000, 11.000000, 11.500000,\n",
       "       12.000000, 12.500000, 13.000000, 13.500000])"
      ]
     },
     "execution_count": 11,
     "metadata": {},
     "output_type": "execute_result"
    }
   ],
   "source": [
    "# Replace None with appropriate code\n",
    "b_val = np.arange(0,14,0.5)\n",
    "b_val"
   ]
  },
  {
   "cell_type": "markdown",
   "metadata": {},
   "source": [
    "Now use your `rss_values` function to find the RSS values for each value in `b_val`. Continue to use the m value of 43.\n",
    "\n",
    "We have included code to print out the resulting table."
   ]
  },
  {
   "cell_type": "code",
   "execution_count": 12,
   "metadata": {
    "ExecuteTime": {
     "end_time": "2023-07-13T20:18:54.932582Z",
     "start_time": "2023-07-13T20:18:54.925520Z"
    }
   },
   "outputs": [
    {
     "name": "stdout",
     "output_type": "stream",
     "text": [
      "            0.00          1750.97\n",
      "            0.50          1552.09\n",
      "            1.00          1368.21\n",
      "            1.50          1199.33\n",
      "            2.00          1045.45\n",
      "            2.50           906.57\n",
      "            3.00           782.69\n",
      "            3.50           673.81\n",
      "            4.00           579.93\n",
      "            4.50           501.05\n",
      "            5.00           437.17\n",
      "            5.50           388.29\n",
      "            6.00           354.41\n",
      "            6.50           335.53\n",
      "            7.00           331.65\n",
      "            7.50           342.77\n",
      "            8.00           368.89\n",
      "            8.50           410.01\n",
      "            9.00           466.13\n",
      "            9.50           537.25\n",
      "           10.00           623.37\n",
      "           10.50           724.49\n",
      "           11.00           840.61\n",
      "           11.50           971.73\n",
      "           12.00          1117.85\n",
      "           12.50          1278.97\n",
      "           13.00          1455.08\n",
      "           13.50          1646.20\n"
     ]
    }
   ],
   "source": [
    "# Replace None with appropriate code\n",
    "bval_rss = rss_values(x, y, 43, b_val)\n",
    "np.savetxt(sys.stdout, bval_rss, '%16.2f') # this line is to round your result, which will make things look nicer."
   ]
  },
  {
   "cell_type": "markdown",
   "metadata": {},
   "source": [
    "This represents our cost curve!\n",
    "\n",
    "Let's plot this out using a a line chart."
   ]
  },
  {
   "cell_type": "code",
   "execution_count": 13,
   "metadata": {
    "ExecuteTime": {
     "end_time": "2023-07-13T20:19:08.014738Z",
     "start_time": "2023-07-13T20:19:07.793674Z"
    }
   },
   "outputs": [
    {
     "data": {
      "image/png": "[encoded data removed]",
      "text/plain": [
       "<Figure size 720x504 with 1 Axes>"
      ]
     },
     "metadata": {
      "needs_background": "light"
     },
     "output_type": "display_data"
    }
   ],
   "source": [
    "fig, ax = plt.subplots(figsize=(10,7))\n",
    "ax.plot(bval_rss[:,0], bval_rss[:,1])\n",
    "ax.set_xlabel(r'$b$ values', fontsize=14)\n",
    "ax.set_ylabel(\"RSS\", fontsize=14)\n",
    "fig.suptitle(\"RSS with Changes to Intercept\", fontsize=16);"
   ]
  },
  {
   "cell_type": "markdown",
   "metadata": {},
   "source": [
    "## Looking at the Slope of Our Cost Curve\n",
    "\n",
    "In this section, we'll work up to building a gradient descent function that automatically changes our step size.  To get you started, we'll provide a function called `slope_at` that calculates the slope of the cost curve at a given point on the cost curve.\n",
    "\n",
    "Use the `slope_at` function for b-values 3 and 6 (continuing to use an m of 43)."
   ]
  },
  {
   "cell_type": "code",
   "execution_count": 14,
   "metadata": {
    "ExecuteTime": {
     "end_time": "2023-07-13T20:20:03.458677Z",
     "start_time": "2023-07-13T20:20:03.454400Z"
    }
   },
   "outputs": [],
   "source": [
    "def slope_at(x_values, y_values, m, b):\n",
    "    delta = .001\n",
    "    base_rss = residual_sum_squares(x_values, y_values, m, b)\n",
    "    delta_rss = residual_sum_squares(x_values, y_values, m, b + delta)\n",
    "    numerator = delta_rss - base_rss\n",
    "    slope = numerator/delta\n",
    "    return slope"
   ]
  },
  {
   "cell_type": "code",
   "execution_count": 15,
   "metadata": {
    "ExecuteTime": {
     "end_time": "2023-07-13T20:20:27.640753Z",
     "start_time": "2023-07-13T20:20:27.634810Z"
    }
   },
   "outputs": [
    {
     "data": {
      "text/plain": [
       "-232.73066022784406"
      ]
     },
     "execution_count": 15,
     "metadata": {},
     "output_type": "execute_result"
    }
   ],
   "source": [
    "# Use slope_at for b value 3\n",
    "slope_at(x, y, 43, 3)\n",
    "# -232.73066022784406"
   ]
  },
  {
   "cell_type": "code",
   "execution_count": 16,
   "metadata": {
    "ExecuteTime": {
     "end_time": "2023-07-13T20:20:36.450668Z",
     "start_time": "2023-07-13T20:20:36.444647Z"
    }
   },
   "outputs": [
    {
     "data": {
      "text/plain": [
       "-52.73066022772355"
      ]
     },
     "execution_count": 16,
     "metadata": {},
     "output_type": "execute_result"
    }
   ],
   "source": [
    "# Use slope_at for b value 6\n",
    "slope_at(x, y, 43, 6)\n",
    "# -52.73066022772355"
   ]
  },
  {
   "cell_type": "markdown",
   "metadata": {},
   "source": [
    "The `slope_at` function takes in our dataset, and returns the slope of the cost curve at that point.  So the numbers -232.73 and -52.73 reflect the slopes at the cost curve when b is 3 and 6 respectively.\n",
    "\n",
    "Below, we plot these on the cost curve."
   ]
  },
  {
   "cell_type": "code",
   "execution_count": 17,
   "metadata": {
    "ExecuteTime": {
     "end_time": "2023-07-13T20:20:49.484249Z",
     "start_time": "2023-07-13T20:20:49.230894Z"
    }
   },
   "outputs": [
    {
     "data": {
      "image/png": "[encoded data removed]",
      "text/plain": [
       "<Figure size 720x504 with 1 Axes>"
      ]
     },
     "metadata": {
      "needs_background": "light"
     },
     "output_type": "display_data"
    }
   ],
   "source": [
    "# Setting up to repeat the same process for 3 and 6\n",
    "# (You can change these values to see other tangent lines)\n",
    "b_vals = [3, 6]\n",
    "\n",
    "def plot_slope_at_b_vals(x, y, m, b_vals, bval_rss):\n",
    "    # Find the slope at each of these values\n",
    "    slopes = [slope_at(x, y, m, b) for b in b_vals]\n",
    "    # Find the RSS at each of these values\n",
    "    rss_values = [residual_sum_squares(x, y, m, b) for b in b_vals]\n",
    "\n",
    "    # Calculate the actual x and y locations for plotting\n",
    "    x_values = [np.linspace(b-1, b+1, 100) for b in b_vals]\n",
    "    y_values = [rss_values[i] + slopes[i]*(x_values[i] - b) for i, b in enumerate(b_vals)]\n",
    "    \n",
    "    # Plotting the same RSS curve as before\n",
    "    fig, ax = plt.subplots(figsize=(10,7))\n",
    "    ax.plot(bval_rss[:,0], bval_rss[:,1])\n",
    "    ax.set_xlabel(r'$b$ values', fontsize=14)\n",
    "    ax.set_ylabel(\"RSS\", fontsize=14)\n",
    "\n",
    "    # Adding tangent lines for the selected b values\n",
    "    for i in range(len(b_vals)):\n",
    "        ax.plot(x_values[i], y_values[i], label=f\"slope={round(slopes[i], 2)}\", linewidth=3)\n",
    "\n",
    "    ax.legend(loc='upper right', fontsize='large')\n",
    "    fig.suptitle(f\"RSS with Intercepts {[round(b, 3) for b in b_vals]} Highlighted\", fontsize=16)\n",
    "    \n",
    "plot_slope_at_b_vals(x, y, 43, b_vals, bval_rss)"
   ]
  },
  {
   "cell_type": "markdown",
   "metadata": {},
   "source": [
    "Let's look at the above graph.  When the curve is steeper and downwards at $b = 3$, the slope is around -232.73.  And at $b = 6$ with our cost curve becoming flatter, our slope is around -52.73. \n",
    "\n",
    "## Moving Towards Gradient Descent\n",
    "\n",
    "Now that we are familiar with our `slope_at` function and how it calculates the slope of our cost curve at a given point, we can begin to use that function with our gradient descent procedure.\n",
    "\n",
    "Remember that gradient descent works by starting at a regression line with values m, and b, which corresponds to a point on our cost curve.  Then we alter our m or b value (here, the b value) by looking to the slope of the cost curve at that point.  Then we look to the slope of the cost curve at the new b value to indicate the size and direction of the next step.\n",
    "\n",
    "So now let's write a function called `updated_b`.  The function will tell us the step size and direction to move along our cost curve.  The `updated_b` function takes as arguments an initial value of $b$, a learning rate, and the `slope` of the cost curve at that value of $m$.  Its return value is the next value of `b` that it calculates."
   ]
  },
  {
   "cell_type": "code",
   "execution_count": 25,
   "metadata": {
    "ExecuteTime": {
     "end_time": "2023-07-13T20:28:26.899562Z",
     "start_time": "2023-07-13T20:28:26.896351Z"
    }
   },
   "outputs": [],
   "source": [
    "def updated_b(b, learning_rate, cost_curve_slope):\n",
    "    return -learning_rate * cost_curve_slope + b"
   ]
  },
  {
   "cell_type": "markdown",
   "metadata": {},
   "source": [
    "Test out your function below. Each time we update `current_b` and step a little closer to the optimal value."
   ]
  },
  {
   "cell_type": "code",
   "execution_count": 26,
   "metadata": {
    "ExecuteTime": {
     "end_time": "2023-07-13T20:28:28.765330Z",
     "start_time": "2023-07-13T20:28:28.759363Z"
    }
   },
   "outputs": [
    {
     "name": "stdout",
     "output_type": "stream",
     "text": [
      "\n",
      "Current b: 3\n",
      "Cost slope for current b: -232.731\n",
      "Updated b: 5.327\n",
      "\n"
     ]
    }
   ],
   "source": [
    "b_vals = []\n",
    "\n",
    "current_b = 3\n",
    "b_vals.append(current_b)\n",
    "\n",
    "current_cost_slope = slope_at(x, y, 43, current_b)\n",
    "new_b = updated_b(current_b, .01, current_cost_slope)\n",
    "print(f\"\"\"\n",
    "Current b: {round(current_b, 3)}\n",
    "Cost slope for current b: {round(current_cost_slope, 3)}\n",
    "Updated b: {round(new_b, 3)}\n",
    "\"\"\")\n",
    "# Current b: 3\n",
    "# Cost slope for current b: -232.731\n",
    "# Updated b: 5.327"
   ]
  },
  {
   "cell_type": "code",
   "execution_count": 27,
   "metadata": {
    "ExecuteTime": {
     "end_time": "2023-07-13T20:28:36.899066Z",
     "start_time": "2023-07-13T20:28:36.893084Z"
    }
   },
   "outputs": [
    {
     "name": "stdout",
     "output_type": "stream",
     "text": [
      "\n",
      "Current b: 5.327\n",
      "Cost slope for current b: -93.092\n",
      "Updated b: 6.258\n",
      "\n"
     ]
    }
   ],
   "source": [
    "current_b = new_b\n",
    "b_vals.append(current_b)\n",
    "\n",
    "current_cost_slope = slope_at(x, y, 43, current_b)\n",
    "new_b = updated_b(current_b, .01, current_cost_slope)\n",
    "print(f\"\"\"\n",
    "Current b: {round(current_b, 3)}\n",
    "Cost slope for current b: {round(current_cost_slope, 3)}\n",
    "Updated b: {round(new_b, 3)}\n",
    "\"\"\")\n",
    "# Current b: 5.327\n",
    "# Cost slope for current b: -93.092\n",
    "# Updated b: 6.258"
   ]
  },
  {
   "cell_type": "code",
   "execution_count": 28,
   "metadata": {
    "ExecuteTime": {
     "end_time": "2023-07-13T20:28:43.594237Z",
     "start_time": "2023-07-13T20:28:43.588744Z"
    }
   },
   "outputs": [
    {
     "name": "stdout",
     "output_type": "stream",
     "text": [
      "\n",
      "Current b: 6.258\n",
      "Cost slope for current b: -37.237\n",
      "Updated b: 6.631\n",
      "\n"
     ]
    }
   ],
   "source": [
    "current_b = new_b\n",
    "b_vals.append(current_b)\n",
    "\n",
    "current_cost_slope = slope_at(x, y, 43, current_b)\n",
    "new_b = updated_b(current_b, .01, current_cost_slope)\n",
    "print(f\"\"\"\n",
    "Current b: {round(current_b, 3)}\n",
    "Cost slope for current b: {round(current_cost_slope, 3)}\n",
    "Updated b: {round(new_b, 3)}\n",
    "\"\"\")\n",
    "# Current b: 6.258\n",
    "# Cost slope for current b: -37.237\n",
    "# Updated b: 6.631"
   ]
  },
  {
   "cell_type": "code",
   "execution_count": 29,
   "metadata": {
    "ExecuteTime": {
     "end_time": "2023-07-13T20:28:51.736108Z",
     "start_time": "2023-07-13T20:28:51.730244Z"
    }
   },
   "outputs": [
    {
     "name": "stdout",
     "output_type": "stream",
     "text": [
      "\n",
      "Current b: 6.631\n",
      "Cost slope for current b: -14.895\n",
      "Updated b: 6.78\n",
      "\n"
     ]
    }
   ],
   "source": [
    "current_b = new_b\n",
    "b_vals.append(current_b)\n",
    "\n",
    "current_cost_slope = slope_at(x, y, 43, current_b)\n",
    "new_b = updated_b(current_b, .01, current_cost_slope)\n",
    "print(f\"\"\"\n",
    "Current b: {round(current_b, 3)}\n",
    "Cost slope for current b: {round(current_cost_slope, 3)}\n",
    "Updated b: {round(new_b, 3)}\n",
    "\"\"\")\n",
    "# Current b: 6.631\n",
    "# Cost slope for current b: -14.895\n",
    "# Updated b: 6.78"
   ]
  },
  {
   "cell_type": "markdown",
   "metadata": {},
   "source": [
    "Take a careful look at how we use the `updated_b` function.  By using our updated value of $b$ we are quickly converging towards an optimal value of $b$.\n",
    "\n",
    "In the cell below, we plot each of these b values and their associated cost curve slopes. Note how the tangent lines get closer together as the steps approach the minimum."
   ]
  },
  {
   "cell_type": "code",
   "execution_count": 30,
   "metadata": {
    "ExecuteTime": {
     "end_time": "2023-07-13T20:29:04.448746Z",
     "start_time": "2023-07-13T20:29:04.167704Z"
    }
   },
   "outputs": [
    {
     "data": {
      "image/png": "[encoded data removed]",
      "text/plain": [
       "<Figure size 720x504 with 1 Axes>"
      ]
     },
     "metadata": {
      "needs_background": "light"
     },
     "output_type": "display_data"
    }
   ],
   "source": [
    "plot_slope_at_b_vals(x, y, 43, b_vals, bval_rss)"
   ]
  },
  {
   "cell_type": "markdown",
   "metadata": {},
   "source": [
    "We can visualize the actual lines created by those b values against the data like this:"
   ]
  },
  {
   "cell_type": "code",
   "execution_count": 31,
   "metadata": {
    "ExecuteTime": {
     "end_time": "2023-07-13T20:29:12.096169Z",
     "start_time": "2023-07-13T20:29:11.711945Z"
    }
   },
   "outputs": [
    {
     "data": {
      "image/png": "[encoded data removed]",
      "text/plain": [
       "<Figure size 720x504 with 1 Axes>"
      ]
     },
     "metadata": {
      "needs_background": "light"
     },
     "output_type": "display_data"
    }
   ],
   "source": [
    "fig, ax = plt.subplots(figsize=(10,7))\n",
    "ax.scatter(x, y, marker=\".\", c=\"b\")\n",
    "colors = ['#ff7f0e', '#2ca02c', '#d62728', '#9467bd']\n",
    "for i, b in enumerate(b_vals):\n",
    "    ax.plot(x, x*43 + b, color=colors[i], label=f'$y = 43x + {round(b, 3)}$', linewidth=3)\n",
    "ax.set_xlabel(\"x\", fontsize=14)\n",
    "ax.set_ylabel(\"y\", fontsize=14)\n",
    "fig.suptitle(\"Revenues\", fontsize=16)\n",
    "ax.legend();"
   ]
  },
  {
   "cell_type": "markdown",
   "metadata": {},
   "source": [
    "Now let's write another function called `gradient_descent`.  The inputs of the function are `x_values`, `y_values`, `steps`, the `m` we are holding constant, the `learning_rate`, and the `current_b` that we are looking at.  The `steps` arguments represent the number of steps the function will take before the function stops.  We can get a sense of the return value in the cell below.  It is a list of dictionaries, with each dictionary having a key of the current `b` value, the `slope` of the cost curve at that `b` value, and the `rss` at that `b` value."
   ]
  },
  {
   "cell_type": "code",
   "execution_count": 39,
   "metadata": {
    "ExecuteTime": {
     "end_time": "2023-07-13T20:45:27.574081Z",
     "start_time": "2023-07-13T20:45:27.568597Z"
    }
   },
   "outputs": [],
   "source": [
    "def gradient_descent(x_values, y_values, steps, current_b, learning_rate, m):\n",
    "    gd_list = []\n",
    "    for i in range(steps):\n",
    "        current_rss = residual_sum_squares(x_values, y_values, m, current_b)\n",
    "        current_slope = slope_at(x_values, y_values, m, current_b)\n",
    "        gd_list.append({\n",
    "            'b': current_b,\n",
    "            'rss': round(current_rss,2),\n",
    "            'slope': round(current_slope,2)\n",
    "        })\n",
    "        current_b = updated_b(current_b, learning_rate, current_slope)\n",
    "    return gd_list"
   ]
  },
  {
   "cell_type": "code",
   "execution_count": 40,
   "metadata": {
    "ExecuteTime": {
     "end_time": "2023-07-13T20:45:29.435802Z",
     "start_time": "2023-07-13T20:45:29.423320Z"
    }
   },
   "outputs": [
    {
     "data": {
      "text/plain": [
       "[{'b': 0, 'rss': 1750.97, 'slope': -412.73},\n",
       " {'b': 2.063653301142949, 'rss': 1026.94, 'slope': -288.91},\n",
       " {'b': 3.5082106119386935, 'rss': 672.15, 'slope': -202.24},\n",
       " {'b': 4.519400729495828, 'rss': 498.29, 'slope': -141.57},\n",
       " {'b': 5.2272338117862205, 'rss': 413.1, 'slope': -99.1},\n",
       " {'b': 5.72271696938941, 'rss': 371.35, 'slope': -69.37},\n",
       " {'b': 6.06955517971187, 'rss': 350.88, 'slope': -48.56},\n",
       " {'b': 6.312341926937677, 'rss': 340.86, 'slope': -33.99},\n",
       " {'b': 6.482292649996282, 'rss': 335.94, 'slope': -23.79},\n",
       " {'b': 6.601258156136964, 'rss': 333.53, 'slope': -16.66},\n",
       " {'b': 6.684534010435641, 'rss': 332.35, 'slope': -11.66},\n",
       " {'b': 6.742827108444089, 'rss': 331.77, 'slope': -8.16},\n",
       " {'b': 6.7836322770506285, 'rss': 331.49, 'slope': -5.71},\n",
       " {'b': 6.812195895074922, 'rss': 331.35, 'slope': -4.0},\n",
       " {'b': 6.832190427692808, 'rss': 331.28, 'slope': -2.8}]"
      ]
     },
     "execution_count": 40,
     "metadata": {},
     "output_type": "execute_result"
    }
   ],
   "source": [
    "descent_steps = gradient_descent(x, y, 15, 0, learning_rate = .005, m = 43)\n",
    "descent_steps\n",
    "\n",
    "#[{'b': 0, 'rss': 1750.97, 'slope': -412.73},\n",
    "# {'b': 2.063653301142949, 'rss': 1026.94, 'slope': -288.91},\n",
    "# {'b': 3.5082106119386935, 'rss': 672.15, 'slope': -202.24},\n",
    "# {'b': 4.519400729495828, 'rss': 498.29, 'slope': -141.57},\n",
    "# {'b': 5.2272338117862205, 'rss': 413.1, 'slope': -99.1},\n",
    "# {'b': 5.72271696938941, 'rss': 371.35, 'slope': -69.37},\n",
    "# {'b': 6.06955517971187, 'rss': 350.88, 'slope': -48.56},\n",
    "# {'b': 6.312341926937677, 'rss': 340.86, 'slope': -33.99},\n",
    "# {'b': 6.482292649996282, 'rss': 335.94, 'slope': -23.79},\n",
    "# {'b': 6.601258156136964, 'rss': 333.53, 'slope': -16.66},\n",
    "# {'b': 6.684534010435641, 'rss': 332.35, 'slope': -11.66},\n",
    "# {'b': 6.742827108444089, 'rss': 331.77, 'slope': -8.16},\n",
    "# {'b': 6.7836322770506285, 'rss': 331.49, 'slope': -5.71},\n",
    "# {'b': 6.812195895074922, 'rss': 331.35, 'slope': -4.0},\n",
    "# {'b': 6.832190427692808, 'rss': 331.28, 'slope': -2.8}]"
   ]
  },
  {
   "cell_type": "markdown",
   "metadata": {},
   "source": [
    "Looking at our b-values, you get a pretty good idea of how our gradient descent function works.  It starts far away with $b = 0$, and the step size is relatively large, as is the slope of the cost curve.  As the $b$ value updates such that it approaches a minimum of the RSS, the slope of the cost curve and the size of each step both decrease.\n",
    "\n",
    "Compared to the initial RSS of 1117.8 when $b$ was 12, we are down to 331.3!\n",
    "\n",
    "Remember that each of these steps indicates a change in our regression line's slope value towards a \"fit\" that more accurately matches our dataset.  Let's plot the final regression line as found before, with $m=43$ and $b=6.83$"
   ]
  },
  {
   "cell_type": "code",
   "execution_count": 45,
   "metadata": {
    "ExecuteTime": {
     "end_time": "2023-07-13T20:49:24.918856Z",
     "start_time": "2023-07-13T20:49:24.770764Z"
    }
   },
   "outputs": [
    {
     "data": {
      "image/png": "[encoded data removed]",
      "text/plain": [
       "<Figure size 432x288 with 1 Axes>"
      ]
     },
     "metadata": {
      "needs_background": "light"
     },
     "output_type": "display_data"
    }
   ],
   "source": [
    "# plot the final result here\n",
    "y_preds = []\n",
    "for i in x:\n",
    "    y_preds.append(43*i+6.83)\n",
    "\n",
    "fig, ax = plt.subplots()\n",
    "\n",
    "ax.scatter(x,y)\n",
    "ax.plot(x,y_preds,color='r');"
   ]
  },
  {
   "cell_type": "markdown",
   "metadata": {},
   "source": [
    "As you can see, this final intercept value of around $b=6.8$ matches our data much better than the previous guess of 12. Remember that the slope was kept constant. You can see that lifting the slope upwards could probably even lead to a better fit!\n",
    "\n",
    "## Summary\n",
    "\n",
    "In this lesson, we learned some more about gradient descent.  We saw how gradient descent allows our function to improve to a regression line that better matches our data.  We see how to change our regression line, by looking at the Residual Sum of Squares related to the current regression line. We update our regression line by looking at the rate of change of our RSS as we adjust our regression line in the right direction -- that is, the slope of our cost curve.  The larger the magnitude of our rate of change (or slope of our cost curve) the larger our step size.  This way, we take larger steps the further away we are from our minimizing our RSS, and take smaller steps as we converge towards our minimum RSS. "
   ]
  }
 ],
 "metadata": {
  "kernelspec": {
   "display_name": "Python 3",
   "language": "python",
   "name": "python3"
  },
  "language_info": {
   "codemirror_mode": {
    "name": "ipython",
    "version": 3
   },
   "file_extension": ".py",
   "mimetype": "text/x-python",
   "name": "python",
   "nbconvert_exporter": "python",
   "pygments_lexer": "ipython3",
   "version": "3.8.5"
  }
 },
 "nbformat": 4,
 "nbformat_minor": 2
}
